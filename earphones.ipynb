{
 "cells": [
  {
   "cell_type": "code",
   "execution_count": 2,
   "metadata": {},
   "outputs": [],
   "source": [
    "from bs4 import BeautifulSoup\n",
    "import requests\n",
    "from csv import  writer"
   ]
  },
  {
   "cell_type": "code",
   "execution_count": 3,
   "metadata": {},
   "outputs": [],
   "source": [
    "url = 'https://www.flipkart.com/search?q=earphones+wired&otracker=search&otracker1=search&marketplace=FLIPKART&as-show=on&as=off&as-pos=1&as-type=HISTORY'\n",
    "page = requests.get(url)\n",
    "soup = BeautifulSoup(page.content,'html.parser')\n"
   ]
  },
  {
   "cell_type": "code",
   "execution_count": 17,
   "metadata": {},
   "outputs": [],
   "source": [
    "list = []\n",
    "items = soup.find_all('div' , class_ = '_4ddWXP')\n",
    "with open(\"earphones.csv\" , 'w' , encoding= 'utf8' ,newline=\"\") as file:\n",
    "    write = writer(file)\n",
    "    headers = ['Title' , 'Color' , 'Price' , 'Discount' , 'Buyers' , 'Rating']\n",
    "    write.writerow(headers)\n",
    "    for item in items :\n",
    "        title = item.find('a' , class_ = 's1Q9rs').text\n",
    "        color = item.find('div' , class_ = '_3Djpdu').text\n",
    "        price = item.find('div' , class_ = '_30jeq3').text\n",
    "        try :\n",
    "            offer = item.find('div' , class_ = '_3Ay6Sb').text\n",
    "        except Exception as e:\n",
    "            offer = None\n",
    "        try :\n",
    "            buyers = item.find('span' , class_ = '_2_R_DZ').text\n",
    "        except Exception as e :\n",
    "            buyers = None\n",
    "        try :\n",
    "            rating = item.find('div' , class_ = '_3LWZlK').text\n",
    "        except Exception as e :\n",
    "            rating = None\n",
    "            \n",
    "        write.writerow([title , color , price , offer , buyers , rating])"
   ]
  }
 ],
 "metadata": {
  "interpreter": {
   "hash": "b3ba2566441a7c06988d0923437866b63cedc61552a5af99d1f4fb67d367b25f"
  },
  "kernelspec": {
   "display_name": "Python 3.8.8 ('base')",
   "language": "python",
   "name": "python3"
  },
  "language_info": {
   "codemirror_mode": {
    "name": "ipython",
    "version": 3
   },
   "file_extension": ".py",
   "mimetype": "text/x-python",
   "name": "python",
   "nbconvert_exporter": "python",
   "pygments_lexer": "ipython3",
   "version": "3.8.8"
  },
  "orig_nbformat": 4
 },
 "nbformat": 4,
 "nbformat_minor": 2
}
